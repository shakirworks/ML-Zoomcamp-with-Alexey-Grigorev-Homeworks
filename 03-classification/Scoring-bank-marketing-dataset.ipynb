{
 "cells": [
  {
   "cell_type": "code",
   "execution_count": 22,
   "id": "1792323b-6659-46f9-9d62-93ebbe6c16d7",
   "metadata": {},
   "outputs": [],
   "source": [
    "import pandas as pd\n",
    "import numpy as np\n",
    "from sklearn.model_selection import train_test_split\n",
    "from sklearn.metrics import mutual_info_score\n",
    "from sklearn.feature_extraction import DictVectorizer\n",
    "from sklearn.linear_model import LogisticRegression \n",
    "from sklearn.preprocessing import StandardScaler"
   ]
  },
  {
   "cell_type": "code",
   "execution_count": 3,
   "id": "7fe5fcca-0465-408a-a046-5e4d3cb0f50f",
   "metadata": {},
   "outputs": [
    {
     "name": "stdout",
     "output_type": "stream",
     "text": [
      "--2025-10-14 15:36:32--  https://raw.githubusercontent.com/alexeygrigorev/datasets/master/course_lead_scoring.csv\n",
      "Resolving raw.githubusercontent.com (raw.githubusercontent.com)... 185.199.109.133, 185.199.110.133, 185.199.111.133, ...\n",
      "Connecting to raw.githubusercontent.com (raw.githubusercontent.com)|185.199.109.133|:443... connected.\n",
      "HTTP request sent, awaiting response... 200 OK\n",
      "Length: 80876 (79K) [text/plain]\n",
      "Saving to: ‘course_lead_scoring.csv’\n",
      "\n",
      "course_lead_scoring 100%[===================>]  78.98K  --.-KB/s    in 0.002s  \n",
      "\n",
      "2025-10-14 15:36:32 (42.2 MB/s) - ‘course_lead_scoring.csv’ saved [80876/80876]\n",
      "\n"
     ]
    }
   ],
   "source": [
    "data = 'https://raw.githubusercontent.com/alexeygrigorev/datasets/master/course_lead_scoring.csv'\n",
    "!wget $data"
   ]
  },
  {
   "cell_type": "code",
   "execution_count": 2,
   "id": "2349f3a4-ad88-48a8-9d5f-0e0ecda6fff7",
   "metadata": {},
   "outputs": [
    {
     "data": {
      "text/html": [
       "<div>\n",
       "<style scoped>\n",
       "    .dataframe tbody tr th:only-of-type {\n",
       "        vertical-align: middle;\n",
       "    }\n",
       "\n",
       "    .dataframe tbody tr th {\n",
       "        vertical-align: top;\n",
       "    }\n",
       "\n",
       "    .dataframe thead th {\n",
       "        text-align: right;\n",
       "    }\n",
       "</style>\n",
       "<table border=\"1\" class=\"dataframe\">\n",
       "  <thead>\n",
       "    <tr style=\"text-align: right;\">\n",
       "      <th></th>\n",
       "      <th>lead_source</th>\n",
       "      <th>industry</th>\n",
       "      <th>number_of_courses_viewed</th>\n",
       "      <th>annual_income</th>\n",
       "      <th>employment_status</th>\n",
       "      <th>location</th>\n",
       "      <th>interaction_count</th>\n",
       "      <th>lead_score</th>\n",
       "      <th>converted</th>\n",
       "    </tr>\n",
       "  </thead>\n",
       "  <tbody>\n",
       "    <tr>\n",
       "      <th>0</th>\n",
       "      <td>paid_ads</td>\n",
       "      <td>NaN</td>\n",
       "      <td>1</td>\n",
       "      <td>79450.0</td>\n",
       "      <td>unemployed</td>\n",
       "      <td>south_america</td>\n",
       "      <td>4</td>\n",
       "      <td>0.94</td>\n",
       "      <td>1</td>\n",
       "    </tr>\n",
       "    <tr>\n",
       "      <th>1</th>\n",
       "      <td>social_media</td>\n",
       "      <td>retail</td>\n",
       "      <td>1</td>\n",
       "      <td>46992.0</td>\n",
       "      <td>employed</td>\n",
       "      <td>south_america</td>\n",
       "      <td>1</td>\n",
       "      <td>0.80</td>\n",
       "      <td>0</td>\n",
       "    </tr>\n",
       "    <tr>\n",
       "      <th>2</th>\n",
       "      <td>events</td>\n",
       "      <td>healthcare</td>\n",
       "      <td>5</td>\n",
       "      <td>78796.0</td>\n",
       "      <td>unemployed</td>\n",
       "      <td>australia</td>\n",
       "      <td>3</td>\n",
       "      <td>0.69</td>\n",
       "      <td>1</td>\n",
       "    </tr>\n",
       "    <tr>\n",
       "      <th>3</th>\n",
       "      <td>paid_ads</td>\n",
       "      <td>retail</td>\n",
       "      <td>2</td>\n",
       "      <td>83843.0</td>\n",
       "      <td>NaN</td>\n",
       "      <td>australia</td>\n",
       "      <td>1</td>\n",
       "      <td>0.87</td>\n",
       "      <td>0</td>\n",
       "    </tr>\n",
       "    <tr>\n",
       "      <th>4</th>\n",
       "      <td>referral</td>\n",
       "      <td>education</td>\n",
       "      <td>3</td>\n",
       "      <td>85012.0</td>\n",
       "      <td>self_employed</td>\n",
       "      <td>europe</td>\n",
       "      <td>3</td>\n",
       "      <td>0.62</td>\n",
       "      <td>1</td>\n",
       "    </tr>\n",
       "  </tbody>\n",
       "</table>\n",
       "</div>"
      ],
      "text/plain": [
       "    lead_source    industry  number_of_courses_viewed  annual_income  \\\n",
       "0      paid_ads         NaN                         1        79450.0   \n",
       "1  social_media      retail                         1        46992.0   \n",
       "2        events  healthcare                         5        78796.0   \n",
       "3      paid_ads      retail                         2        83843.0   \n",
       "4      referral   education                         3        85012.0   \n",
       "\n",
       "  employment_status       location  interaction_count  lead_score  converted  \n",
       "0        unemployed  south_america                  4        0.94          1  \n",
       "1          employed  south_america                  1        0.80          0  \n",
       "2        unemployed      australia                  3        0.69          1  \n",
       "3               NaN      australia                  1        0.87          0  \n",
       "4     self_employed         europe                  3        0.62          1  "
      ]
     },
     "execution_count": 2,
     "metadata": {},
     "output_type": "execute_result"
    }
   ],
   "source": [
    "df = pd.read_csv('course_lead_scoring.csv')\n",
    "df.columns = df.columns.str.lower().str.replace(' ','_')\n",
    "df.head()"
   ]
  },
  {
   "cell_type": "code",
   "execution_count": 3,
   "id": "d716750f-8be7-48da-8e8e-f3c790ef9273",
   "metadata": {},
   "outputs": [
    {
     "data": {
      "text/html": [
       "<div>\n",
       "<style scoped>\n",
       "    .dataframe tbody tr th:only-of-type {\n",
       "        vertical-align: middle;\n",
       "    }\n",
       "\n",
       "    .dataframe tbody tr th {\n",
       "        vertical-align: top;\n",
       "    }\n",
       "\n",
       "    .dataframe thead th {\n",
       "        text-align: right;\n",
       "    }\n",
       "</style>\n",
       "<table border=\"1\" class=\"dataframe\">\n",
       "  <thead>\n",
       "    <tr style=\"text-align: right;\">\n",
       "      <th></th>\n",
       "      <th>lead_source</th>\n",
       "      <th>industry</th>\n",
       "      <th>employment_status</th>\n",
       "      <th>location</th>\n",
       "    </tr>\n",
       "  </thead>\n",
       "  <tbody>\n",
       "    <tr>\n",
       "      <th>0</th>\n",
       "      <td>paid_ads</td>\n",
       "      <td>NA</td>\n",
       "      <td>unemployed</td>\n",
       "      <td>south_america</td>\n",
       "    </tr>\n",
       "    <tr>\n",
       "      <th>1</th>\n",
       "      <td>social_media</td>\n",
       "      <td>retail</td>\n",
       "      <td>employed</td>\n",
       "      <td>south_america</td>\n",
       "    </tr>\n",
       "    <tr>\n",
       "      <th>2</th>\n",
       "      <td>events</td>\n",
       "      <td>healthcare</td>\n",
       "      <td>unemployed</td>\n",
       "      <td>australia</td>\n",
       "    </tr>\n",
       "    <tr>\n",
       "      <th>3</th>\n",
       "      <td>paid_ads</td>\n",
       "      <td>retail</td>\n",
       "      <td>NA</td>\n",
       "      <td>australia</td>\n",
       "    </tr>\n",
       "    <tr>\n",
       "      <th>4</th>\n",
       "      <td>referral</td>\n",
       "      <td>education</td>\n",
       "      <td>self_employed</td>\n",
       "      <td>europe</td>\n",
       "    </tr>\n",
       "  </tbody>\n",
       "</table>\n",
       "</div>"
      ],
      "text/plain": [
       "    lead_source    industry employment_status       location\n",
       "0      paid_ads          NA        unemployed  south_america\n",
       "1  social_media      retail          employed  south_america\n",
       "2        events  healthcare        unemployed      australia\n",
       "3      paid_ads      retail                NA      australia\n",
       "4      referral   education     self_employed         europe"
      ]
     },
     "execution_count": 3,
     "metadata": {},
     "output_type": "execute_result"
    }
   ],
   "source": [
    "#check if there are any categorical values that Nan and convert them to 'NA'\n",
    "cat_cols = df.select_dtypes(include=['object', 'category']).columns\n",
    "#replace categorical features of nan to NA\n",
    "df[cat_cols] = df[cat_cols].fillna('NA')\n",
    "df[cat_cols].head()"
   ]
  },
  {
   "cell_type": "code",
   "execution_count": 4,
   "id": "8da3a29b-c45e-490a-9826-4f18e3f40d4c",
   "metadata": {},
   "outputs": [
    {
     "data": {
      "text/html": [
       "<div>\n",
       "<style scoped>\n",
       "    .dataframe tbody tr th:only-of-type {\n",
       "        vertical-align: middle;\n",
       "    }\n",
       "\n",
       "    .dataframe tbody tr th {\n",
       "        vertical-align: top;\n",
       "    }\n",
       "\n",
       "    .dataframe thead th {\n",
       "        text-align: right;\n",
       "    }\n",
       "</style>\n",
       "<table border=\"1\" class=\"dataframe\">\n",
       "  <thead>\n",
       "    <tr style=\"text-align: right;\">\n",
       "      <th></th>\n",
       "      <th>number_of_courses_viewed</th>\n",
       "      <th>annual_income</th>\n",
       "      <th>interaction_count</th>\n",
       "      <th>lead_score</th>\n",
       "      <th>converted</th>\n",
       "    </tr>\n",
       "  </thead>\n",
       "  <tbody>\n",
       "    <tr>\n",
       "      <th>0</th>\n",
       "      <td>1</td>\n",
       "      <td>79450.0</td>\n",
       "      <td>4</td>\n",
       "      <td>0.94</td>\n",
       "      <td>1</td>\n",
       "    </tr>\n",
       "    <tr>\n",
       "      <th>1</th>\n",
       "      <td>1</td>\n",
       "      <td>46992.0</td>\n",
       "      <td>1</td>\n",
       "      <td>0.80</td>\n",
       "      <td>0</td>\n",
       "    </tr>\n",
       "    <tr>\n",
       "      <th>2</th>\n",
       "      <td>5</td>\n",
       "      <td>78796.0</td>\n",
       "      <td>3</td>\n",
       "      <td>0.69</td>\n",
       "      <td>1</td>\n",
       "    </tr>\n",
       "    <tr>\n",
       "      <th>3</th>\n",
       "      <td>2</td>\n",
       "      <td>83843.0</td>\n",
       "      <td>1</td>\n",
       "      <td>0.87</td>\n",
       "      <td>0</td>\n",
       "    </tr>\n",
       "    <tr>\n",
       "      <th>4</th>\n",
       "      <td>3</td>\n",
       "      <td>85012.0</td>\n",
       "      <td>3</td>\n",
       "      <td>0.62</td>\n",
       "      <td>1</td>\n",
       "    </tr>\n",
       "  </tbody>\n",
       "</table>\n",
       "</div>"
      ],
      "text/plain": [
       "   number_of_courses_viewed  annual_income  interaction_count  lead_score  \\\n",
       "0                         1        79450.0                  4        0.94   \n",
       "1                         1        46992.0                  1        0.80   \n",
       "2                         5        78796.0                  3        0.69   \n",
       "3                         2        83843.0                  1        0.87   \n",
       "4                         3        85012.0                  3        0.62   \n",
       "\n",
       "   converted  \n",
       "0          1  \n",
       "1          0  \n",
       "2          1  \n",
       "3          0  \n",
       "4          1  "
      ]
     },
     "execution_count": 4,
     "metadata": {},
     "output_type": "execute_result"
    }
   ],
   "source": [
    "#check if there are any numberical features that are Nan and convert them to 0\n",
    "num_cols = df.select_dtypes(include=['number']).columns\n",
    "#replace numerical features of nan to 0\n",
    "df[num_cols] = df[num_cols].fillna(0.0)\n",
    "df[num_cols].head()"
   ]
  },
  {
   "cell_type": "code",
   "execution_count": 5,
   "id": "cc56eef3-757b-4b2a-9b95-b1f53e8cfcc2",
   "metadata": {},
   "outputs": [
    {
     "data": {
      "text/plain": [
       "0    retail\n",
       "Name: industry, dtype: object"
      ]
     },
     "execution_count": 5,
     "metadata": {},
     "output_type": "execute_result"
    }
   ],
   "source": [
    "#what is mode for coloumn 'industry'\n",
    "df['industry'].mode()"
   ]
  },
  {
   "cell_type": "code",
   "execution_count": 11,
   "id": "835d5f02-d4a6-4c2b-8093-8749e3076a9b",
   "metadata": {},
   "outputs": [
    {
     "data": {
      "text/plain": [
       "np.float64(0.01)"
      ]
     },
     "execution_count": 11,
     "metadata": {},
     "output_type": "execute_result"
    }
   ],
   "source": [
    "# find the correlation matrix of the following pairs and find the strongest correlation\n",
    "#interaction_count and lead_score\n",
    "round(abs(df['interaction_count'].corr(df['lead_score'])),2)"
   ]
  },
  {
   "cell_type": "code",
   "execution_count": 12,
   "id": "b30a8dfb-f406-4e5f-b16a-45fa89aa78a5",
   "metadata": {},
   "outputs": [
    {
     "data": {
      "text/plain": [
       "np.float64(0.0)"
      ]
     },
     "execution_count": 12,
     "metadata": {},
     "output_type": "execute_result"
    }
   ],
   "source": [
    "#number_of_courses_viewed and lead_score\n",
    "round(abs(df['number_of_courses_viewed'].corr(df['lead_score'])),2)"
   ]
  },
  {
   "cell_type": "code",
   "execution_count": 13,
   "id": "462a07c2-525c-493a-9485-f68922858883",
   "metadata": {},
   "outputs": [
    {
     "data": {
      "text/plain": [
       "np.float64(0.02)"
      ]
     },
     "execution_count": 13,
     "metadata": {},
     "output_type": "execute_result"
    }
   ],
   "source": [
    "#number_of_courses_viewed and interaction_count\n",
    "round(abs(df['number_of_courses_viewed'].corr(df['interaction_count'])),2)"
   ]
  },
  {
   "cell_type": "code",
   "execution_count": 14,
   "id": "a9ec644a-79b8-405e-b874-96260894eb30",
   "metadata": {},
   "outputs": [
    {
     "data": {
      "text/plain": [
       "np.float64(0.03)"
      ]
     },
     "execution_count": 14,
     "metadata": {},
     "output_type": "execute_result"
    }
   ],
   "source": [
    "#annual_income and interaction_count\n",
    "round(abs(df['annual_income'].corr(df['interaction_count'])),2)"
   ]
  },
  {
   "cell_type": "code",
   "execution_count": null,
   "id": "9f4f4048-6f79-425c-9022-e5029efc73c0",
   "metadata": {},
   "outputs": [],
   "source": [
    "# according to the absolute correlation coefficient annumal income has the highest correlation to the interaction count"
   ]
  },
  {
   "cell_type": "code",
   "execution_count": 6,
   "id": "82af8bb2-bf14-4b2e-90f5-13a0e95a4c70",
   "metadata": {},
   "outputs": [],
   "source": [
    "#split the data using train_test_split function of sickit_learn\n",
    "#do a data cleanup for Nans\n",
    "df[num_cols].fillna(0.0)\n",
    "df[cat_cols].fillna('NA')\n",
    "df_train_data_full, df_test = train_test_split(df, test_size=0.2,random_state=42)\n",
    "df_train, df_val = train_test_split(df_train_data_full, test_size=0.25,random_state=42)\n",
    "len(df_train),len(df_val),len(df_test)\n",
    "df_train.reset_index(drop=True)\n",
    "df_val.reset_index(drop=True)\n",
    "df_test.reset_index(drop=True)\n",
    "y_train= df_train.converted.values\n",
    "y_val =df_val.converted.values\n",
    "y_test =df_val.converted.values\n",
    "del df_train['converted']\n",
    "del df_val['converted']\n",
    "del df_test['converted']"
   ]
  },
  {
   "cell_type": "code",
   "execution_count": 7,
   "id": "ae69614c-6173-4aaf-a9e4-393db97bcf40",
   "metadata": {},
   "outputs": [
    {
     "data": {
      "text/plain": [
       "lead_source                 0\n",
       "industry                    0\n",
       "number_of_courses_viewed    0\n",
       "annual_income               0\n",
       "employment_status           0\n",
       "location                    0\n",
       "interaction_count           0\n",
       "lead_score                  0\n",
       "converted                   0\n",
       "dtype: int64"
      ]
     },
     "execution_count": 7,
     "metadata": {},
     "output_type": "execute_result"
    }
   ],
   "source": [
    "df_train_data_full.head()\n",
    "df_train_data_full[num_cols] = df_train_data_full[num_cols].fillna(0.0)\n",
    "df_train_data_full[cat_cols] = df_train_data_full[cat_cols].fillna('NA')\n",
    "df_train_data_full.isnull().sum()"
   ]
  },
  {
   "cell_type": "code",
   "execution_count": null,
   "id": "91eb1acd-7310-4fe8-a560-50a501e39be0",
   "metadata": {},
   "outputs": [],
   "source": [
    "#Calculate the mutual information score between converted and other categorical variables in the dataset."
   ]
  },
  {
   "cell_type": "code",
   "execution_count": 17,
   "id": "a782541c-63ed-49bd-9e2b-749715e7da37",
   "metadata": {},
   "outputs": [
    {
     "data": {
      "text/plain": [
       "0.01"
      ]
     },
     "execution_count": 17,
     "metadata": {},
     "output_type": "execute_result"
    }
   ],
   "source": [
    "round(mutual_info_score(df_train_data_full.industry, df_train_data_full.converted),2)"
   ]
  },
  {
   "cell_type": "code",
   "execution_count": 42,
   "id": "73f8e285-3c64-443a-836c-d3dd7bea3e2c",
   "metadata": {},
   "outputs": [
    {
     "data": {
      "text/plain": [
       "0.0"
      ]
     },
     "execution_count": 42,
     "metadata": {},
     "output_type": "execute_result"
    }
   ],
   "source": [
    "round(mutual_info_score(df_train_data_full.location, df_train_data_full.converted),2)"
   ]
  },
  {
   "cell_type": "code",
   "execution_count": 18,
   "id": "2f12ba4a-f4d7-404e-a401-efb6627bb7a4",
   "metadata": {},
   "outputs": [
    {
     "data": {
      "text/plain": [
       "0.03"
      ]
     },
     "execution_count": 18,
     "metadata": {},
     "output_type": "execute_result"
    }
   ],
   "source": [
    "round(mutual_info_score(df_train_data_full.lead_source, df_train_data_full.converted),2)"
   ]
  },
  {
   "cell_type": "code",
   "execution_count": 19,
   "id": "d526e48d-6450-415f-9d3a-b79750a0a772",
   "metadata": {},
   "outputs": [
    {
     "data": {
      "text/plain": [
       "0.01"
      ]
     },
     "execution_count": 19,
     "metadata": {},
     "output_type": "execute_result"
    }
   ],
   "source": [
    "round(mutual_info_score(df_train_data_full.employment_status, df_train_data_full.converted),2)"
   ]
  },
  {
   "cell_type": "code",
   "execution_count": null,
   "id": "536bbd86-d510-46a2-8e34-5db86165e03d",
   "metadata": {},
   "outputs": [],
   "source": [
    "# according to the mutual_info_score lead_source as has the biggest_value"
   ]
  },
  {
   "cell_type": "code",
   "execution_count": null,
   "id": "5dec210f-3e3a-4220-916f-af57622e18f1",
   "metadata": {},
   "outputs": [],
   "source": [
    "#Now let's train a logistic regression.using one-hot encoding.\n",
    "#Fit the model on the training dataset."
   ]
  },
  {
   "cell_type": "code",
   "execution_count": 10,
   "id": "49d2a6d3-17a9-4e86-9b6e-92fc540df297",
   "metadata": {},
   "outputs": [],
   "source": [
    "train_dicts = df_train[cat_cols].to_dict(orient='records')"
   ]
  },
  {
   "cell_type": "code",
   "execution_count": 13,
   "id": "3e8ee72a-cc8b-489c-a3da-7a3b788bf77b",
   "metadata": {},
   "outputs": [],
   "source": [
    "dv = DictVectorizer(sparse=False)\n",
    "encoded_cat =dv.fit_transform(train_dicts)\n",
    "encoded_df = pd.DataFrame(encoded_cat, columns=dv.get_feature_names_out(cat_cols))"
   ]
  },
  {
   "cell_type": "code",
   "execution_count": 16,
   "id": "75358ae5-3f42-4005-8b4d-9340e8335904",
   "metadata": {},
   "outputs": [],
   "source": [
    "#concat the numerical and categorical columns\n",
    "X_train = pd.concat([df_train[['number_of_courses_viewed','annual_income' ,'interaction_count','lead_score']].reset_index(drop=True),encoded_df.reset_index(drop=True)], axis=1)"
   ]
  },
  {
   "cell_type": "code",
   "execution_count": 38,
   "id": "d307b992-d1f9-4a38-9773-cc1a72da0c85",
   "metadata": {},
   "outputs": [
    {
     "name": "stdout",
     "output_type": "stream",
     "text": [
      "[0.57914343 0.87283491 0.58816107 0.51231211 0.63666475 0.75521068\n",
      " 0.67660732 0.80463891 0.31931235 0.52336705 0.42762898 0.75635962\n",
      " 0.36365335 0.479759   0.66891574 0.79118097 0.84805492 0.75295599\n",
      " 0.74242974 0.44250074 0.59299541 0.71532757 0.89505926 0.40505602\n",
      " 0.41274906 0.49397089 0.76167979 0.54183228 0.91299586 0.84329958\n",
      " 0.43502339 0.8413228  0.45134426 0.73331191 0.69094239 0.63501138\n",
      " 0.78633979 0.70340975 0.31374644 0.66994888 0.81195513 0.54070748\n",
      " 0.52703678 0.66105373 0.89692378 0.93952744 0.69103809 0.57569837\n",
      " 0.43601078 0.58839132 0.40836197 0.62054107 0.59360953 0.80782455\n",
      " 0.55881103 0.89447257 0.85676682 0.3290991  0.88454471 0.61158866\n",
      " 0.55737895 0.80158813 0.29433961 0.76846368 0.26685382 0.61036624\n",
      " 0.70840796 0.76184472 0.88772862 0.60724473 0.74046877 0.39672339\n",
      " 0.94279447 0.89334272 0.77167755 0.46010978 0.67939687 0.78038502\n",
      " 0.88118541 0.3279005  0.69468482 0.86234034 0.50374313 0.39103763\n",
      " 0.32306121 0.85545275 0.48720894 0.67632878 0.78732671 0.38079651\n",
      " 0.59358565 0.67544782 0.30673757 0.70499096 0.44562592 0.50095966\n",
      " 0.39025671 0.57979674 0.79141299 0.40860451 0.4564383  0.71245068\n",
      " 0.79430415 0.90384023 0.93723436 0.4562272  0.83198963 0.62957342\n",
      " 0.82184016 0.64446096 0.70354494 0.78823594 0.53732669 0.97246708\n",
      " 0.76882315 0.83923905 0.92056542 0.90991368 0.5666082  0.79495618\n",
      " 0.71424507 0.72871388 0.88202923 0.3164753  0.62310118 0.53315737\n",
      " 0.48339274 0.53331331 0.6728357  0.22210659 0.78780997 0.8822551\n",
      " 0.37540642 0.83354947 0.79658947 0.87218311 0.58986564 0.7881445\n",
      " 0.54464144 0.64943427 0.83673254 0.70529277 0.62778932 0.91595373\n",
      " 0.89533947 0.80703982 0.69395843 0.70051545 0.65076994 0.67503474\n",
      " 0.39746674 0.80770481 0.77188929 0.5095436  0.88730545 0.75819513\n",
      " 0.50450809 0.49203641 0.54599135 0.91066188 0.42575014 0.35795824\n",
      " 0.55471794 0.37110939 0.95301    0.86933231 0.82750614 0.51482503\n",
      " 0.76600278 0.5368692  0.5151582  0.70203437 0.41173863 0.6401107\n",
      " 0.83671727 0.49741713 0.73119403 0.77493084 0.60020822 0.66534618\n",
      " 0.89169291 0.92526953 0.8227775  0.89264571 0.41916769 0.55808164\n",
      " 0.94868388 0.98035455 0.73357891 0.74092642 0.76248161 0.78875553\n",
      " 0.79195312 0.60942241 0.46495894 0.45383059 0.46102151 0.52497684\n",
      " 0.74991671 0.7180742  0.59466459 0.90337361 0.81677556 0.41379031\n",
      " 0.7213796  0.53200293 0.47037054 0.77446856 0.6571022  0.78996797\n",
      " 0.58929036 0.62670529 0.74674227 0.57204985 0.50772305 0.78434106\n",
      " 0.4975378  0.92650858 0.66717604 0.82930971 0.27849025 0.8383872\n",
      " 0.70574664 0.77943445 0.44579212 0.58683387 0.33665564 0.48045674\n",
      " 0.62588772 0.57138677 0.70536593 0.8609464  0.37186622 0.9081487\n",
      " 0.4653939  0.82449196 0.92638351 0.74685957 0.50045738 0.7817302\n",
      " 0.75235931 0.89114426 0.66531575 0.97683895 0.41377048 0.43440521\n",
      " 0.49716034 0.68331974 0.45601093 0.58124266 0.75113466 0.92727832\n",
      " 0.53797851 0.76054981 0.67984845 0.76143231 0.48815564 0.63747479\n",
      " 0.91501538 0.71484465 0.52101876 0.34543989 0.68778279 0.66327528\n",
      " 0.349241   0.80344068 0.58915918 0.78552125 0.79199374 0.61974344\n",
      " 0.76631052 0.87836656 0.7972464  0.92402755 0.55020892 0.45092437\n",
      " 0.62583804 0.65531824 0.80936715 0.65636774 0.65111804 0.48305591\n",
      " 0.94750954 0.4534997  0.48203422 0.7311451  0.68613582 0.81603779\n",
      " 0.62506658 0.66580813 0.93700205 0.59124434 0.82114801 0.7251609\n",
      " 0.87616175 0.80548096 0.30914096 0.66246297 0.81261052 0.54572681\n",
      " 0.72119565 0.78389439 0.68510344 0.74104859 0.57631463 0.91129236\n",
      " 0.42790666 0.64297962 0.72307819 0.85809549 0.73817233 0.82191488\n",
      " 0.658033   0.55835423 0.53880069 0.95375429 0.6478169  0.6639064\n",
      " 0.40386164 0.77103971 0.78974885 0.59071675 0.74052584 0.54099116\n",
      " 0.8354783  0.57326926 0.70459305 0.36615027 0.61830654 0.67792963\n",
      " 0.39475389 0.95699683 0.52354658 0.64668951 0.62993256 0.80416639\n",
      " 0.89454919 0.62889736 0.65443998 0.30619713 0.39763577 0.36843545\n",
      " 0.46423779 0.8225309  0.4282264  0.49058572 0.7429782  0.91858505\n",
      " 0.72376789 0.63917958 0.8421273  0.81909029 0.85643589 0.56207537\n",
      " 0.48574397 0.47510293 0.85309382 0.81980682 0.53562621 0.44865344\n",
      " 0.42131363 0.81797536 0.75352078 0.96003318 0.43600243 0.71495088\n",
      " 0.41487135 0.54398228 0.91886855 0.28870222 0.84307866 0.21716798\n",
      " 0.62359366 0.60945982 0.68991705 0.53599615 0.66819846 0.85731938\n",
      " 0.82136734 0.35048229 0.58863114 0.6852952  0.64803572 0.6321406\n",
      " 0.40015197 0.36408501 0.65430442 0.68343862 0.61776602 0.63568232\n",
      " 0.91830456 0.96197366 0.50700927 0.78022599 0.39381424 0.78334202\n",
      " 0.87881419 0.47988428 0.41280845 0.46033487 0.58517225 0.34929026\n",
      " 0.81300045 0.56612632 0.93963847 0.24311545 0.83080697 0.43752484\n",
      " 0.91896708 0.33422556 0.57160769 0.54928739 0.69920946 0.57757558\n",
      " 0.50426064 0.52719124 0.53487682 0.71499783 0.54221557 0.58558598\n",
      " 0.73076178 0.6937733  0.80025346 0.93013528 0.6601903  0.87733993\n",
      " 0.89712749 0.29889815 0.5951863  0.30609956 0.53441195 0.59983593\n",
      " 0.33374562 0.84181415 0.9043013  0.94730152 0.91355978 0.60528312\n",
      " 0.84431286 0.75198169 0.55342853 0.64940287 0.45640793 0.77498112\n",
      " 0.90072753 0.77691442 0.88266312 0.87003453 0.68866988 0.81435907\n",
      " 0.69873774 0.61001963 0.49767872 0.92277533 0.76217608 0.66918776\n",
      " 0.51730068 0.46608628 0.89306671 0.47493427 0.83267767 0.56224525\n",
      " 0.56755894 0.53977037 0.72252344 0.39205925 0.81652092 0.80442354\n",
      " 0.49910074 0.80016078 0.78439911 0.73632685 0.71927    0.84753024\n",
      " 0.57116701 0.7290709  0.71554524 0.51580155 0.59607538 0.37946474\n",
      " 0.63486895 0.50375703 0.70641626 0.85380181 0.59869949 0.63712888\n",
      " 0.79418653 0.85053249 0.73834346 0.51969839 0.52856544 0.64534034\n",
      " 0.86112424 0.51325328 0.64038857 0.86313187 0.91663842 0.31256942\n",
      " 0.209259   0.81180575 0.61137331 0.62673458 0.7397803  0.78511355\n",
      " 0.21618394 0.29947297 0.82234973 0.73627896 0.86069741 0.66178171\n",
      " 0.76011811 0.71712398 0.7467067  0.52351029 0.47246919 0.61836602\n",
      " 0.48914766 0.69468676 0.87455685 0.65769561 0.4704804  0.7800462\n",
      " 0.96183146 0.5562668  0.59475824 0.37281829 0.67709549 0.55629037\n",
      " 0.82040978 0.53384936 0.69791537 0.93183569 0.83336025 0.88642254\n",
      " 0.78913666 0.73635737 0.46980347 0.93815114 0.36327428 0.63149817\n",
      " 0.75652009 0.77991702 0.49970748 0.75069838 0.53051421 0.79796183\n",
      " 0.94073494 0.53982853 0.7357469  0.56206828 0.83995793 0.95147427\n",
      " 0.84591216 0.58994539 0.54027018 0.59296995 0.53566869 0.57210612\n",
      " 0.77920271 0.6852917  0.23917244 0.72989192 0.61264647 0.61140812\n",
      " 0.64892456 0.93699403 0.38427222 0.61381783 0.71570297 0.40391343\n",
      " 0.3133703  0.46209084 0.56532161 0.52704227 0.63781035 0.85167959\n",
      " 0.74640144 0.85801536 0.81968356 0.59322142 0.60553184 0.63046473\n",
      " 0.51327382 0.52482348 0.57829725 0.93015675 0.67678021 0.42957798\n",
      " 0.56529009 0.48031612 0.44902848 0.74999389 0.67906524 0.563867\n",
      " 0.6407163  0.82359358 0.29338062 0.84071292 0.85389237 0.83918457\n",
      " 0.81901995 0.85607127 0.53849568 0.6266007  0.74158331 0.72357443\n",
      " 0.81808975 0.69388867 0.61187306 0.4085118  0.62125053 0.5875722\n",
      " 0.65639841 0.59524938 0.63287243 0.8695439  0.55571858 0.73581823\n",
      " 0.89646548 0.52545409 0.85268452 0.34136612 0.81798637 0.71942836\n",
      " 0.6892756  0.65549375 0.53324755 0.76521976 0.60630018 0.81496615\n",
      " 0.86656722 0.73305778 0.51964534 0.39425095 0.93580529 0.71944406\n",
      " 0.38491695 0.77000746 0.66656801 0.89592947 0.62187821 0.798916\n",
      " 0.69360446 0.62119091 0.62938046 0.47609767 0.9340556  0.82287455\n",
      " 0.63728096 0.57209005 0.60259798 0.53499231 0.84311902 0.90864528\n",
      " 0.46398709 0.82670174 0.69728571 0.86239721 0.33713944 0.3366868\n",
      " 0.90825997 0.75047404 0.71993638 0.886028   0.90904939 0.75809096\n",
      " 0.27978559 0.76240231 0.76269958 0.79286229 0.5962807  0.42220179\n",
      " 0.85122604 0.5778091  0.41599902 0.81230406 0.43181155 0.9467138\n",
      " 0.80657182 0.65064844 0.4896838  0.60948158 0.31923321 0.92036303\n",
      " 0.73032435 0.78459155 0.85867966 0.74569856 0.41867509 0.48620638\n",
      " 0.69958529 0.53907432 0.79856199 0.33777945 0.27703713 0.61091141\n",
      " 0.63786699 0.60229171 0.53355199 0.77872417 0.4274077  0.68791862\n",
      " 0.45359489 0.29877445 0.5439793  0.81861144 0.94399673 0.74093518\n",
      " 0.63897907 0.83053446 0.37322795 0.56301793 0.65172192 0.3405554\n",
      " 0.94771526 0.7570422  0.4729919  0.68926993 0.863737   0.52831499\n",
      " 0.77071392 0.78181631 0.56167827 0.89081329 0.37182475 0.76171925\n",
      " 0.65557157 0.92182806 0.56963737 0.6855231  0.57922639 0.81654313\n",
      " 0.96688089 0.78569168 0.92254438 0.58539145 0.72158789 0.83999317\n",
      " 0.51730122 0.68316129 0.27477631 0.80838819 0.52784624 0.38477026\n",
      " 0.72655517 0.61564185 0.57634272 0.68017755 0.92476626 0.89515763\n",
      " 0.34274544 0.60550794 0.34339836 0.53670564 0.50595472 0.453264\n",
      " 0.90962147 0.64984938 0.7990733  0.58325116 0.84669896 0.40998231\n",
      " 0.50259334 0.9015522  0.62003651 0.9120442  0.90168663 0.82294217\n",
      " 0.69985528 0.94489619 0.53485581 0.62416052 0.69499153 0.94438162\n",
      " 0.78085733 0.70802363 0.57043829 0.82406726 0.9129544  0.67823741\n",
      " 0.73488031 0.97543    0.749413   0.60134713 0.66735426 0.78201043\n",
      " 0.397099   0.49210578 0.83888858 0.65167933 0.21521779 0.43871433\n",
      " 0.63902222 0.59421479 0.32242912 0.63624922 0.96456346 0.75733704\n",
      " 0.94475116 0.60546969 0.56312156 0.70675231 0.7834282  0.86244886\n",
      " 0.80516175 0.95246521 0.61011384 0.68848943 0.61107723 0.72494633\n",
      " 0.81512194 0.64461514 0.82194546 0.71571539 0.7689893  0.78160783\n",
      " 0.77753711 0.80760178 0.74222044 0.79603167 0.49930187 0.40205724\n",
      " 0.55735694 0.65566548 0.90049983 0.77277604 0.66528663 0.73678841\n",
      " 0.25978212 0.48179175 0.60803975 0.46635055 0.69965837 0.63321174\n",
      " 0.48333632 0.87206338 0.76558898 0.82828424 0.79686849 0.6879814\n",
      " 0.64792368 0.89894872 0.76237679 0.90030806 0.66719481 0.6087189\n",
      " 0.54503626 0.64771318 0.63397904 0.63981427 0.56994716 0.5108853\n",
      " 0.92605035 0.7722184  0.5075257  0.85939868 0.65706158 0.42255266\n",
      " 0.97034999 0.88692432 0.5510997  0.80778297 0.71530345 0.66440285\n",
      " 0.40095272 0.83145548 0.81580802 0.76535908 0.8367225  0.90890492\n",
      " 0.93286963 0.70546247 0.59772861 0.74734215 0.6697843  0.85592177]\n"
     ]
    }
   ],
   "source": [
    "scaler = StandardScaler()\n",
    "X_scaled = scaler.fit_transform(X_train)\n",
    "model =model = LogisticRegression(solver='liblinear', C=1.0, max_iter=1000, random_state=42)\n",
    "model.fit(X_train,y_train)\n",
    "#check for mode coefficient\n",
    "#model.coef_[0].round(3)\n",
    "#get the soft predicition for converted\n",
    "y_pred = model.predict_proba(X_train)[:, 1]\n",
    "print(y_pred)"
   ]
  },
  {
   "cell_type": "code",
   "execution_count": null,
   "id": "5fbbf52b-3d91-4b67-8421-68e29190c02a",
   "metadata": {},
   "outputs": [],
   "source": []
  }
 ],
 "metadata": {
  "kernelspec": {
   "display_name": "Python 3 (ipykernel)",
   "language": "python",
   "name": "python3"
  },
  "language_info": {
   "codemirror_mode": {
    "name": "ipython",
    "version": 3
   },
   "file_extension": ".py",
   "mimetype": "text/x-python",
   "name": "python",
   "nbconvert_exporter": "python",
   "pygments_lexer": "ipython3",
   "version": "3.12.1"
  }
 },
 "nbformat": 4,
 "nbformat_minor": 5
}
