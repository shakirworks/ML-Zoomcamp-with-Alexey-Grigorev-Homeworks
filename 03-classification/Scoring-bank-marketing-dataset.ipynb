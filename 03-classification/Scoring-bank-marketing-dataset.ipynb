{
 "cells": [
  {
   "cell_type": "code",
   "execution_count": 1,
   "id": "1792323b-6659-46f9-9d62-93ebbe6c16d7",
   "metadata": {},
   "outputs": [],
   "source": [
    "import pandas as pd\n",
    "import numpy as np\n",
    "from sklearn.model_selection import train_test_split\n",
    "from sklearn.metrics import mutual_info_score\n",
    "from sklearn.feature_extraction import DictVectorizer"
   ]
  },
  {
   "cell_type": "code",
   "execution_count": 3,
   "id": "7fe5fcca-0465-408a-a046-5e4d3cb0f50f",
   "metadata": {},
   "outputs": [
    {
     "name": "stdout",
     "output_type": "stream",
     "text": [
      "--2025-10-14 15:36:32--  https://raw.githubusercontent.com/alexeygrigorev/datasets/master/course_lead_scoring.csv\n",
      "Resolving raw.githubusercontent.com (raw.githubusercontent.com)... 185.199.109.133, 185.199.110.133, 185.199.111.133, ...\n",
      "Connecting to raw.githubusercontent.com (raw.githubusercontent.com)|185.199.109.133|:443... connected.\n",
      "HTTP request sent, awaiting response... 200 OK\n",
      "Length: 80876 (79K) [text/plain]\n",
      "Saving to: ‘course_lead_scoring.csv’\n",
      "\n",
      "course_lead_scoring 100%[===================>]  78.98K  --.-KB/s    in 0.002s  \n",
      "\n",
      "2025-10-14 15:36:32 (42.2 MB/s) - ‘course_lead_scoring.csv’ saved [80876/80876]\n",
      "\n"
     ]
    }
   ],
   "source": [
    "data = 'https://raw.githubusercontent.com/alexeygrigorev/datasets/master/course_lead_scoring.csv'\n",
    "!wget $data"
   ]
  },
  {
   "cell_type": "code",
   "execution_count": 2,
   "id": "2349f3a4-ad88-48a8-9d5f-0e0ecda6fff7",
   "metadata": {},
   "outputs": [
    {
     "data": {
      "text/html": [
       "<div>\n",
       "<style scoped>\n",
       "    .dataframe tbody tr th:only-of-type {\n",
       "        vertical-align: middle;\n",
       "    }\n",
       "\n",
       "    .dataframe tbody tr th {\n",
       "        vertical-align: top;\n",
       "    }\n",
       "\n",
       "    .dataframe thead th {\n",
       "        text-align: right;\n",
       "    }\n",
       "</style>\n",
       "<table border=\"1\" class=\"dataframe\">\n",
       "  <thead>\n",
       "    <tr style=\"text-align: right;\">\n",
       "      <th></th>\n",
       "      <th>lead_source</th>\n",
       "      <th>industry</th>\n",
       "      <th>number_of_courses_viewed</th>\n",
       "      <th>annual_income</th>\n",
       "      <th>employment_status</th>\n",
       "      <th>location</th>\n",
       "      <th>interaction_count</th>\n",
       "      <th>lead_score</th>\n",
       "      <th>converted</th>\n",
       "    </tr>\n",
       "  </thead>\n",
       "  <tbody>\n",
       "    <tr>\n",
       "      <th>0</th>\n",
       "      <td>paid_ads</td>\n",
       "      <td>NaN</td>\n",
       "      <td>1</td>\n",
       "      <td>79450.0</td>\n",
       "      <td>unemployed</td>\n",
       "      <td>south_america</td>\n",
       "      <td>4</td>\n",
       "      <td>0.94</td>\n",
       "      <td>1</td>\n",
       "    </tr>\n",
       "    <tr>\n",
       "      <th>1</th>\n",
       "      <td>social_media</td>\n",
       "      <td>retail</td>\n",
       "      <td>1</td>\n",
       "      <td>46992.0</td>\n",
       "      <td>employed</td>\n",
       "      <td>south_america</td>\n",
       "      <td>1</td>\n",
       "      <td>0.80</td>\n",
       "      <td>0</td>\n",
       "    </tr>\n",
       "    <tr>\n",
       "      <th>2</th>\n",
       "      <td>events</td>\n",
       "      <td>healthcare</td>\n",
       "      <td>5</td>\n",
       "      <td>78796.0</td>\n",
       "      <td>unemployed</td>\n",
       "      <td>australia</td>\n",
       "      <td>3</td>\n",
       "      <td>0.69</td>\n",
       "      <td>1</td>\n",
       "    </tr>\n",
       "    <tr>\n",
       "      <th>3</th>\n",
       "      <td>paid_ads</td>\n",
       "      <td>retail</td>\n",
       "      <td>2</td>\n",
       "      <td>83843.0</td>\n",
       "      <td>NaN</td>\n",
       "      <td>australia</td>\n",
       "      <td>1</td>\n",
       "      <td>0.87</td>\n",
       "      <td>0</td>\n",
       "    </tr>\n",
       "    <tr>\n",
       "      <th>4</th>\n",
       "      <td>referral</td>\n",
       "      <td>education</td>\n",
       "      <td>3</td>\n",
       "      <td>85012.0</td>\n",
       "      <td>self_employed</td>\n",
       "      <td>europe</td>\n",
       "      <td>3</td>\n",
       "      <td>0.62</td>\n",
       "      <td>1</td>\n",
       "    </tr>\n",
       "  </tbody>\n",
       "</table>\n",
       "</div>"
      ],
      "text/plain": [
       "    lead_source    industry  number_of_courses_viewed  annual_income  \\\n",
       "0      paid_ads         NaN                         1        79450.0   \n",
       "1  social_media      retail                         1        46992.0   \n",
       "2        events  healthcare                         5        78796.0   \n",
       "3      paid_ads      retail                         2        83843.0   \n",
       "4      referral   education                         3        85012.0   \n",
       "\n",
       "  employment_status       location  interaction_count  lead_score  converted  \n",
       "0        unemployed  south_america                  4        0.94          1  \n",
       "1          employed  south_america                  1        0.80          0  \n",
       "2        unemployed      australia                  3        0.69          1  \n",
       "3               NaN      australia                  1        0.87          0  \n",
       "4     self_employed         europe                  3        0.62          1  "
      ]
     },
     "execution_count": 2,
     "metadata": {},
     "output_type": "execute_result"
    }
   ],
   "source": [
    "df = pd.read_csv('course_lead_scoring.csv')\n",
    "df.columns = df.columns.str.lower().str.replace(' ','_')\n",
    "df.head()"
   ]
  },
  {
   "cell_type": "code",
   "execution_count": 3,
   "id": "d716750f-8be7-48da-8e8e-f3c790ef9273",
   "metadata": {},
   "outputs": [
    {
     "data": {
      "text/html": [
       "<div>\n",
       "<style scoped>\n",
       "    .dataframe tbody tr th:only-of-type {\n",
       "        vertical-align: middle;\n",
       "    }\n",
       "\n",
       "    .dataframe tbody tr th {\n",
       "        vertical-align: top;\n",
       "    }\n",
       "\n",
       "    .dataframe thead th {\n",
       "        text-align: right;\n",
       "    }\n",
       "</style>\n",
       "<table border=\"1\" class=\"dataframe\">\n",
       "  <thead>\n",
       "    <tr style=\"text-align: right;\">\n",
       "      <th></th>\n",
       "      <th>lead_source</th>\n",
       "      <th>industry</th>\n",
       "      <th>employment_status</th>\n",
       "      <th>location</th>\n",
       "    </tr>\n",
       "  </thead>\n",
       "  <tbody>\n",
       "    <tr>\n",
       "      <th>0</th>\n",
       "      <td>paid_ads</td>\n",
       "      <td>NA</td>\n",
       "      <td>unemployed</td>\n",
       "      <td>south_america</td>\n",
       "    </tr>\n",
       "    <tr>\n",
       "      <th>1</th>\n",
       "      <td>social_media</td>\n",
       "      <td>retail</td>\n",
       "      <td>employed</td>\n",
       "      <td>south_america</td>\n",
       "    </tr>\n",
       "    <tr>\n",
       "      <th>2</th>\n",
       "      <td>events</td>\n",
       "      <td>healthcare</td>\n",
       "      <td>unemployed</td>\n",
       "      <td>australia</td>\n",
       "    </tr>\n",
       "    <tr>\n",
       "      <th>3</th>\n",
       "      <td>paid_ads</td>\n",
       "      <td>retail</td>\n",
       "      <td>NA</td>\n",
       "      <td>australia</td>\n",
       "    </tr>\n",
       "    <tr>\n",
       "      <th>4</th>\n",
       "      <td>referral</td>\n",
       "      <td>education</td>\n",
       "      <td>self_employed</td>\n",
       "      <td>europe</td>\n",
       "    </tr>\n",
       "  </tbody>\n",
       "</table>\n",
       "</div>"
      ],
      "text/plain": [
       "    lead_source    industry employment_status       location\n",
       "0      paid_ads          NA        unemployed  south_america\n",
       "1  social_media      retail          employed  south_america\n",
       "2        events  healthcare        unemployed      australia\n",
       "3      paid_ads      retail                NA      australia\n",
       "4      referral   education     self_employed         europe"
      ]
     },
     "execution_count": 3,
     "metadata": {},
     "output_type": "execute_result"
    }
   ],
   "source": [
    "#check if there are any categorical values that Nan and convert them to 'NA'\n",
    "cat_cols = df.select_dtypes(include=['object', 'category']).columns\n",
    "#replace categorical features of nan to NA\n",
    "df[cat_cols] = df[cat_cols].fillna('NA')\n",
    "df[cat_cols].head()"
   ]
  },
  {
   "cell_type": "code",
   "execution_count": 4,
   "id": "8da3a29b-c45e-490a-9826-4f18e3f40d4c",
   "metadata": {},
   "outputs": [
    {
     "data": {
      "text/html": [
       "<div>\n",
       "<style scoped>\n",
       "    .dataframe tbody tr th:only-of-type {\n",
       "        vertical-align: middle;\n",
       "    }\n",
       "\n",
       "    .dataframe tbody tr th {\n",
       "        vertical-align: top;\n",
       "    }\n",
       "\n",
       "    .dataframe thead th {\n",
       "        text-align: right;\n",
       "    }\n",
       "</style>\n",
       "<table border=\"1\" class=\"dataframe\">\n",
       "  <thead>\n",
       "    <tr style=\"text-align: right;\">\n",
       "      <th></th>\n",
       "      <th>number_of_courses_viewed</th>\n",
       "      <th>annual_income</th>\n",
       "      <th>interaction_count</th>\n",
       "      <th>lead_score</th>\n",
       "      <th>converted</th>\n",
       "    </tr>\n",
       "  </thead>\n",
       "  <tbody>\n",
       "    <tr>\n",
       "      <th>0</th>\n",
       "      <td>1</td>\n",
       "      <td>79450.0</td>\n",
       "      <td>4</td>\n",
       "      <td>0.94</td>\n",
       "      <td>1</td>\n",
       "    </tr>\n",
       "    <tr>\n",
       "      <th>1</th>\n",
       "      <td>1</td>\n",
       "      <td>46992.0</td>\n",
       "      <td>1</td>\n",
       "      <td>0.80</td>\n",
       "      <td>0</td>\n",
       "    </tr>\n",
       "    <tr>\n",
       "      <th>2</th>\n",
       "      <td>5</td>\n",
       "      <td>78796.0</td>\n",
       "      <td>3</td>\n",
       "      <td>0.69</td>\n",
       "      <td>1</td>\n",
       "    </tr>\n",
       "    <tr>\n",
       "      <th>3</th>\n",
       "      <td>2</td>\n",
       "      <td>83843.0</td>\n",
       "      <td>1</td>\n",
       "      <td>0.87</td>\n",
       "      <td>0</td>\n",
       "    </tr>\n",
       "    <tr>\n",
       "      <th>4</th>\n",
       "      <td>3</td>\n",
       "      <td>85012.0</td>\n",
       "      <td>3</td>\n",
       "      <td>0.62</td>\n",
       "      <td>1</td>\n",
       "    </tr>\n",
       "  </tbody>\n",
       "</table>\n",
       "</div>"
      ],
      "text/plain": [
       "   number_of_courses_viewed  annual_income  interaction_count  lead_score  \\\n",
       "0                         1        79450.0                  4        0.94   \n",
       "1                         1        46992.0                  1        0.80   \n",
       "2                         5        78796.0                  3        0.69   \n",
       "3                         2        83843.0                  1        0.87   \n",
       "4                         3        85012.0                  3        0.62   \n",
       "\n",
       "   converted  \n",
       "0          1  \n",
       "1          0  \n",
       "2          1  \n",
       "3          0  \n",
       "4          1  "
      ]
     },
     "execution_count": 4,
     "metadata": {},
     "output_type": "execute_result"
    }
   ],
   "source": [
    "#check if there are any numberical features that are Nan and convert them to 0\n",
    "num_cols = df.select_dtypes(include=['number']).columns\n",
    "#replace numerical features of nan to 0\n",
    "df[num_cols] = df[num_cols].fillna(0.0)\n",
    "df[num_cols].head()"
   ]
  },
  {
   "cell_type": "code",
   "execution_count": 5,
   "id": "cc56eef3-757b-4b2a-9b95-b1f53e8cfcc2",
   "metadata": {},
   "outputs": [
    {
     "data": {
      "text/plain": [
       "0    retail\n",
       "Name: industry, dtype: object"
      ]
     },
     "execution_count": 5,
     "metadata": {},
     "output_type": "execute_result"
    }
   ],
   "source": [
    "#what is mode for coloumn 'industry'\n",
    "df['industry'].mode()"
   ]
  },
  {
   "cell_type": "code",
   "execution_count": 11,
   "id": "835d5f02-d4a6-4c2b-8093-8749e3076a9b",
   "metadata": {},
   "outputs": [
    {
     "data": {
      "text/plain": [
       "np.float64(0.01)"
      ]
     },
     "execution_count": 11,
     "metadata": {},
     "output_type": "execute_result"
    }
   ],
   "source": [
    "# find the correlation matrix of the following pairs and find the strongest correlation\n",
    "#interaction_count and lead_score\n",
    "round(abs(df['interaction_count'].corr(df['lead_score'])),2)"
   ]
  },
  {
   "cell_type": "code",
   "execution_count": 12,
   "id": "b30a8dfb-f406-4e5f-b16a-45fa89aa78a5",
   "metadata": {},
   "outputs": [
    {
     "data": {
      "text/plain": [
       "np.float64(0.0)"
      ]
     },
     "execution_count": 12,
     "metadata": {},
     "output_type": "execute_result"
    }
   ],
   "source": [
    "#number_of_courses_viewed and lead_score\n",
    "round(abs(df['number_of_courses_viewed'].corr(df['lead_score'])),2)"
   ]
  },
  {
   "cell_type": "code",
   "execution_count": 13,
   "id": "462a07c2-525c-493a-9485-f68922858883",
   "metadata": {},
   "outputs": [
    {
     "data": {
      "text/plain": [
       "np.float64(0.02)"
      ]
     },
     "execution_count": 13,
     "metadata": {},
     "output_type": "execute_result"
    }
   ],
   "source": [
    "#number_of_courses_viewed and interaction_count\n",
    "round(abs(df['number_of_courses_viewed'].corr(df['interaction_count'])),2)"
   ]
  },
  {
   "cell_type": "code",
   "execution_count": 14,
   "id": "a9ec644a-79b8-405e-b874-96260894eb30",
   "metadata": {},
   "outputs": [
    {
     "data": {
      "text/plain": [
       "np.float64(0.03)"
      ]
     },
     "execution_count": 14,
     "metadata": {},
     "output_type": "execute_result"
    }
   ],
   "source": [
    "#annual_income and interaction_count\n",
    "round(abs(df['annual_income'].corr(df['interaction_count'])),2)"
   ]
  },
  {
   "cell_type": "code",
   "execution_count": null,
   "id": "9f4f4048-6f79-425c-9022-e5029efc73c0",
   "metadata": {},
   "outputs": [],
   "source": [
    "# according to the absolute correlation coefficient annumal income has the highest correlation to the interaction count"
   ]
  },
  {
   "cell_type": "code",
   "execution_count": 6,
   "id": "82af8bb2-bf14-4b2e-90f5-13a0e95a4c70",
   "metadata": {},
   "outputs": [],
   "source": [
    "#split the data using train_test_split function of sickit_learn\n",
    "#do a data cleanup for Nans\n",
    "df[num_cols].fillna(0.0)\n",
    "df[cat_cols].fillna('NA')\n",
    "df_train_data_full, df_test = train_test_split(df, test_size=0.2,random_state=42)\n",
    "df_train, df_val = train_test_split(df_train_data_full, test_size=0.25,random_state=42)\n",
    "len(df_train),len(df_val),len(df_test)\n",
    "df_train.reset_index(drop=True)\n",
    "df_val.reset_index(drop=True)\n",
    "df_test.reset_index(drop=True)\n",
    "y_train= df_train.converted.values\n",
    "y_val =df_val.converted.values\n",
    "y_test =df_val.converted.values\n",
    "del df_train['converted']\n",
    "del df_val['converted']\n",
    "del df_test['converted']"
   ]
  },
  {
   "cell_type": "code",
   "execution_count": 7,
   "id": "ae69614c-6173-4aaf-a9e4-393db97bcf40",
   "metadata": {},
   "outputs": [
    {
     "data": {
      "text/plain": [
       "lead_source                 0\n",
       "industry                    0\n",
       "number_of_courses_viewed    0\n",
       "annual_income               0\n",
       "employment_status           0\n",
       "location                    0\n",
       "interaction_count           0\n",
       "lead_score                  0\n",
       "converted                   0\n",
       "dtype: int64"
      ]
     },
     "execution_count": 7,
     "metadata": {},
     "output_type": "execute_result"
    }
   ],
   "source": [
    "df_train_data_full.head()\n",
    "df_train_data_full[num_cols] = df_train_data_full[num_cols].fillna(0.0)\n",
    "df_train_data_full[cat_cols] = df_train_data_full[cat_cols].fillna('NA')\n",
    "df_train_data_full.isnull().sum()"
   ]
  },
  {
   "cell_type": "code",
   "execution_count": null,
   "id": "91eb1acd-7310-4fe8-a560-50a501e39be0",
   "metadata": {},
   "outputs": [],
   "source": [
    "#Calculate the mutual information score between converted and other categorical variables in the dataset."
   ]
  },
  {
   "cell_type": "code",
   "execution_count": 17,
   "id": "a782541c-63ed-49bd-9e2b-749715e7da37",
   "metadata": {},
   "outputs": [
    {
     "data": {
      "text/plain": [
       "0.01"
      ]
     },
     "execution_count": 17,
     "metadata": {},
     "output_type": "execute_result"
    }
   ],
   "source": [
    "round(mutual_info_score(df_train_data_full.industry, df_train_data_full.converted),2)"
   ]
  },
  {
   "cell_type": "code",
   "execution_count": 42,
   "id": "73f8e285-3c64-443a-836c-d3dd7bea3e2c",
   "metadata": {},
   "outputs": [
    {
     "data": {
      "text/plain": [
       "0.0"
      ]
     },
     "execution_count": 42,
     "metadata": {},
     "output_type": "execute_result"
    }
   ],
   "source": [
    "round(mutual_info_score(df_train_data_full.location, df_train_data_full.converted),2)"
   ]
  },
  {
   "cell_type": "code",
   "execution_count": 18,
   "id": "2f12ba4a-f4d7-404e-a401-efb6627bb7a4",
   "metadata": {},
   "outputs": [
    {
     "data": {
      "text/plain": [
       "0.03"
      ]
     },
     "execution_count": 18,
     "metadata": {},
     "output_type": "execute_result"
    }
   ],
   "source": [
    "round(mutual_info_score(df_train_data_full.lead_source, df_train_data_full.converted),2)"
   ]
  },
  {
   "cell_type": "code",
   "execution_count": 19,
   "id": "d526e48d-6450-415f-9d3a-b79750a0a772",
   "metadata": {},
   "outputs": [
    {
     "data": {
      "text/plain": [
       "0.01"
      ]
     },
     "execution_count": 19,
     "metadata": {},
     "output_type": "execute_result"
    }
   ],
   "source": [
    "round(mutual_info_score(df_train_data_full.employment_status, df_train_data_full.converted),2)"
   ]
  },
  {
   "cell_type": "code",
   "execution_count": null,
   "id": "536bbd86-d510-46a2-8e34-5db86165e03d",
   "metadata": {},
   "outputs": [],
   "source": [
    "# according to the mutual_info_score lead_source as has the biggest_value"
   ]
  },
  {
   "cell_type": "code",
   "execution_count": null,
   "id": "5dec210f-3e3a-4220-916f-af57622e18f1",
   "metadata": {},
   "outputs": [],
   "source": [
    "#Now let's train a logistic regression.using one-hot encoding.\n",
    "#Fit the model on the training dataset."
   ]
  },
  {
   "cell_type": "code",
   "execution_count": 10,
   "id": "49d2a6d3-17a9-4e86-9b6e-92fc540df297",
   "metadata": {},
   "outputs": [],
   "source": [
    "train_dicts = df_train[cat_cols].to_dict(orient='records')"
   ]
  },
  {
   "cell_type": "code",
   "execution_count": 11,
   "id": "3e8ee72a-cc8b-489c-a3da-7a3b788bf77b",
   "metadata": {},
   "outputs": [
    {
     "data": {
      "text/plain": [
       "array([[0., 0., 0., ..., 1., 0., 0.],\n",
       "       [0., 0., 0., ..., 1., 0., 0.],\n",
       "       [0., 1., 0., ..., 0., 1., 0.],\n",
       "       ...,\n",
       "       [0., 1., 0., ..., 0., 0., 0.],\n",
       "       [0., 0., 1., ..., 0., 0., 0.],\n",
       "       [0., 0., 0., ..., 0., 0., 0.]], shape=(876, 27))"
      ]
     },
     "execution_count": 11,
     "metadata": {},
     "output_type": "execute_result"
    }
   ],
   "source": [
    "dv = DictVectorizer(sparse=False)\n",
    "dv.fit(train_dicts)\n",
    "dv.transform(train_dicts)"
   ]
  },
  {
   "cell_type": "code",
   "execution_count": null,
   "id": "75358ae5-3f42-4005-8b4d-9340e8335904",
   "metadata": {},
   "outputs": [],
   "source": []
  }
 ],
 "metadata": {
  "kernelspec": {
   "display_name": "Python 3 (ipykernel)",
   "language": "python",
   "name": "python3"
  },
  "language_info": {
   "codemirror_mode": {
    "name": "ipython",
    "version": 3
   },
   "file_extension": ".py",
   "mimetype": "text/x-python",
   "name": "python",
   "nbconvert_exporter": "python",
   "pygments_lexer": "ipython3",
   "version": "3.12.1"
  }
 },
 "nbformat": 4,
 "nbformat_minor": 5
}
