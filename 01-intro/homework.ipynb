{
 "cells": [
  {
   "cell_type": "code",
   "execution_count": 6,
   "id": "058ec592-2844-4144-83de-a6fcc0e47d19",
   "metadata": {},
   "outputs": [],
   "source": [
    "import pandas as pd\n",
    "\n",
    "#pd.__version__\n",
    "\n",
    "df = pd.read_csv('https://raw.githubusercontent.com/alexeygrigorev/datasets/master/car_fuel_efficiency.csv')\n",
    "#print(df)\n",
    "#df.describe()\n",
    "#print(df['fuel_type'].value_counts())\n",
    "#print(df.isna().sum())\n",
    "#df['fuel_efficiency_mpg'].max()\n",
    "filtered_origin = df[df['origin'] =='Asia']\n",
    "#print(filtered_origin)\n",
    "max_fuel = filtered_origin['fuel_efficiency_mpg'].max()\n",
    "#print(max_fuel)"
   ]
  },
  {
   "cell_type": "code",
   "execution_count": null,
   "id": "1f1b9385-691d-4d46-9fd7-4ad7221988e7",
   "metadata": {},
   "outputs": [],
   "source": []
  },
  {
   "cell_type": "code",
   "execution_count": null,
   "id": "bfd0d5c2-aed5-4b3c-915e-28c7c611fb89",
   "metadata": {},
   "outputs": [],
   "source": []
  },
  {
   "cell_type": "code",
   "execution_count": null,
   "id": "4bb7aa14-937e-4290-a107-f4acf623b94e",
   "metadata": {},
   "outputs": [],
   "source": []
  }
 ],
 "metadata": {
  "kernelspec": {
   "display_name": "Python 3 (ipykernel)",
   "language": "python",
   "name": "python3"
  },
  "language_info": {
   "codemirror_mode": {
    "name": "ipython",
    "version": 3
   },
   "file_extension": ".py",
   "mimetype": "text/x-python",
   "name": "python",
   "nbconvert_exporter": "python",
   "pygments_lexer": "ipython3",
   "version": "3.12.1"
  }
 },
 "nbformat": 4,
 "nbformat_minor": 5
}
