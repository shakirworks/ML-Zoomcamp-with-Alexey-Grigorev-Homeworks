{
 "cells": [
  {
   "cell_type": "code",
   "execution_count": 12,
   "id": "058ec592-2844-4144-83de-a6fcc0e47d19",
   "metadata": {},
   "outputs": [
    {
     "name": "stdout",
     "output_type": "stream",
     "text": [
      "fuel_type\n",
      "Gasoline    4898\n",
      "Diesel      4806\n",
      "Name: count, dtype: int64\n",
      "engine_displacement      0\n",
      "num_cylinders          482\n",
      "horsepower             708\n",
      "vehicle_weight           0\n",
      "acceleration           930\n",
      "model_year               0\n",
      "origin                   0\n",
      "fuel_type                0\n",
      "drivetrain               0\n",
      "num_doors              502\n",
      "fuel_efficiency_mpg      0\n",
      "dtype: int64\n",
      "max_fuel_efficiency: 23.759122836520497\n",
      "       engine_displacement  num_cylinders   horsepower  vehicle_weight  \\\n",
      "count          9704.000000    9222.000000  8996.000000     9704.000000   \n",
      "mean            199.708368       3.962481   149.657292     3001.280993   \n",
      "std              49.455319       1.999323    29.879555      497.894860   \n",
      "min              10.000000       0.000000    37.000000      952.681761   \n",
      "25%             170.000000       3.000000   130.000000     2666.248985   \n",
      "50%             200.000000       4.000000   149.000000     2993.226296   \n",
      "75%             230.000000       5.000000   170.000000     3334.957039   \n",
      "max             380.000000      13.000000   271.000000     4739.077089   \n",
      "\n",
      "       acceleration   model_year    num_doors  fuel_efficiency_mpg  \n",
      "count   8774.000000  9704.000000  9202.000000          9704.000000  \n",
      "mean      15.021928  2011.484027    -0.006412            14.985243  \n",
      "std        2.510339     6.659808     1.048162             2.556468  \n",
      "min        6.000000  2000.000000    -4.000000             6.200971  \n",
      "25%       13.300000  2006.000000    -1.000000            13.267459  \n",
      "50%       15.000000  2012.000000     0.000000            15.006037  \n",
      "75%       16.700000  2017.000000     1.000000            16.707965  \n",
      "max       24.300000  2023.000000     4.000000            25.967222  \n",
      "most_frequent_hp: 152.0\n",
      "       engine_displacement  num_cylinders   horsepower  vehicle_weight  \\\n",
      "count          9704.000000    9222.000000  9704.000000     9704.000000   \n",
      "mean            199.708368       3.962481   149.828215     3001.280993   \n",
      "std              49.455319       1.999323    28.775248      497.894860   \n",
      "min              10.000000       0.000000    37.000000      952.681761   \n",
      "25%             170.000000       3.000000   131.000000     2666.248985   \n",
      "50%             200.000000       4.000000   152.000000     2993.226296   \n",
      "75%             230.000000       5.000000   168.000000     3334.957039   \n",
      "max             380.000000      13.000000   271.000000     4739.077089   \n",
      "\n",
      "       acceleration   model_year    num_doors  fuel_efficiency_mpg  \n",
      "count   8774.000000  9704.000000  9202.000000          9704.000000  \n",
      "mean      15.021928  2011.484027    -0.006412            14.985243  \n",
      "std        2.510339     6.659808     1.048162             2.556468  \n",
      "min        6.000000  2000.000000    -4.000000             6.200971  \n",
      "25%       13.300000  2006.000000    -1.000000            13.267459  \n",
      "50%       15.000000  2012.000000     0.000000            15.006037  \n",
      "75%       16.700000  2017.000000     1.000000            16.707965  \n",
      "max       24.300000  2023.000000     4.000000            25.967222  \n"
     ]
    }
   ],
   "source": [
    "import pandas as pd\n",
    "\n",
    "#----check the pandas version\n",
    "#pd.__version__\n",
    "\n",
    "df = pd.read_csv('https://raw.githubusercontent.com/alexeygrigorev/datasets/master/car_fuel_efficiency.csv')\n",
    "#----check to see the overall dataset\n",
    "#print(df)\n",
    "#----check the fuel types of the dataset\n",
    "print(df['fuel_type'].value_counts())\n",
    "#-----finding the no of columns with missing values\n",
    "print(df.isna().sum())\n",
    "#-----check the max fuel efficiency for cars in Asia\n",
    "filtered_origin = df[df['origin'] =='Asia']\n",
    "#print(filtered_origin)\n",
    "max_fuel = filtered_origin['fuel_efficiency_mpg'].max()\n",
    "print('max_fuel_efficiency:',max_fuel)\n",
    "#-----find the median value of the horsepower\n",
    "print(df.describe())\n",
    "#median value for horsepower = 149.00\n",
    "#-----find the most frequent value in horsepower column\n",
    "most_frequent = df['horsepower'].mode()[0]\n",
    "print('most_frequent_hp:',most_frequent)\n",
    "#-----replace empty values in teh horsepower column with most frequent value\n",
    "df['horsepower'] = df['horsepower'].fillna(most_frequent)\n",
    "#-----check the median value for horsepower again\n",
    "print(df.describe())\n",
    "# the median value is now 152.00, so the median value has increased\n"
   ]
  },
  {
   "cell_type": "code",
   "execution_count": null,
   "id": "1f1b9385-691d-4d46-9fd7-4ad7221988e7",
   "metadata": {},
   "outputs": [],
   "source": []
  },
  {
   "cell_type": "code",
   "execution_count": null,
   "id": "bfd0d5c2-aed5-4b3c-915e-28c7c611fb89",
   "metadata": {},
   "outputs": [],
   "source": []
  },
  {
   "cell_type": "code",
   "execution_count": null,
   "id": "4bb7aa14-937e-4290-a107-f4acf623b94e",
   "metadata": {},
   "outputs": [],
   "source": []
  }
 ],
 "metadata": {
  "kernelspec": {
   "display_name": "Python 3 (ipykernel)",
   "language": "python",
   "name": "python3"
  },
  "language_info": {
   "codemirror_mode": {
    "name": "ipython",
    "version": 3
   },
   "file_extension": ".py",
   "mimetype": "text/x-python",
   "name": "python",
   "nbconvert_exporter": "python",
   "pygments_lexer": "ipython3",
   "version": "3.12.1"
  }
 },
 "nbformat": 4,
 "nbformat_minor": 5
}
