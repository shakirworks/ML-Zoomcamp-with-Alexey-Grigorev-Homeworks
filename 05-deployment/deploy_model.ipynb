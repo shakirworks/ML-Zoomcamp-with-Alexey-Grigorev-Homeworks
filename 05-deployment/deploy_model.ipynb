{
 "cells": [
  {
   "cell_type": "code",
   "execution_count": 4,
   "id": "6f16242c-444e-4cad-ac1c-0470c9733cf6",
   "metadata": {},
   "outputs": [],
   "source": [
    "import numpy as np\n",
    "import pandas as pd\n",
    "import pickle"
   ]
  },
  {
   "cell_type": "code",
   "execution_count": 2,
   "id": "2c467295-5b08-47d6-b62e-bde2b7f9006e",
   "metadata": {},
   "outputs": [
    {
     "name": "stdout",
     "output_type": "stream",
     "text": [
      "--2025-10-25 19:47:14--  https://github.com/DataTalksClub/machine-learning-zoomcamp/raw/refs/heads/master/cohorts/2025/05-deployment/pipeline_v1.bin\n",
      "Resolving github.com (github.com)... 140.82.113.3\n",
      "Connecting to github.com (github.com)|140.82.113.3|:443... connected.\n",
      "HTTP request sent, awaiting response... 302 Found\n",
      "Location: https://raw.githubusercontent.com/DataTalksClub/machine-learning-zoomcamp/refs/heads/master/cohorts/2025/05-deployment/pipeline_v1.bin [following]\n",
      "--2025-10-25 19:47:14--  https://raw.githubusercontent.com/DataTalksClub/machine-learning-zoomcamp/refs/heads/master/cohorts/2025/05-deployment/pipeline_v1.bin\n",
      "Resolving raw.githubusercontent.com (raw.githubusercontent.com)... 185.199.108.133, 185.199.109.133, 185.199.110.133, ...\n",
      "Connecting to raw.githubusercontent.com (raw.githubusercontent.com)|185.199.108.133|:443... connected.\n",
      "HTTP request sent, awaiting response... 200 OK\n",
      "Length: 1300 (1.3K) [application/octet-stream]\n",
      "Saving to: ‘pipeline_v1.bin’\n",
      "\n",
      "pipeline_v1.bin     100%[===================>]   1.27K  --.-KB/s    in 0s      \n",
      "\n",
      "2025-10-25 19:47:14 (84.1 MB/s) - ‘pipeline_v1.bin’ saved [1300/1300]\n",
      "\n"
     ]
    }
   ],
   "source": [
    "#download the model from the repo#\n",
    "!wget \"https://github.com/DataTalksClub/machine-learning-zoomcamp/raw/refs/heads/master/cohorts/2025/05-deployment/pipeline_v1.bin\""
   ]
  },
  {
   "cell_type": "code",
   "execution_count": 7,
   "id": "62a6c12a-8c58-4e81-b98d-f0a36402f865",
   "metadata": {},
   "outputs": [
    {
     "data": {
      "text/plain": [
       "(DictVectorizer(), LogisticRegression(solver='liblinear'))"
      ]
     },
     "execution_count": 7,
     "metadata": {},
     "output_type": "execute_result"
    }
   ],
   "source": [
    "#load the data model using pickle#\n",
    "model_file = 'pipeline_v1.bin'\n",
    "with open(model_file, 'rb') as file_in:\n",
    "    dv,model = pickle.load(file_in)\n",
    "dv,model    "
   ]
  },
  {
   "cell_type": "code",
   "execution_count": 10,
   "id": "d086a030-91a8-4ba1-b727-d5ba4d196e0c",
   "metadata": {},
   "outputs": [
    {
     "data": {
      "text/plain": [
       "np.float64(0.5336072702798061)"
      ]
     },
     "execution_count": 10,
     "metadata": {},
     "output_type": "execute_result"
    }
   ],
   "source": [
    "# find the score of the record below:\n",
    "record = {\n",
    "    \"lead_source\": \"paid_ads\",\n",
    "    \"number_of_courses_viewed\": 2,\n",
    "    \"annual_income\": 79276.0\n",
    "}\n",
    "\n",
    "X = dv.transform([record])\n",
    "model.predict_proba(X)[0,1]\n"
   ]
  },
  {
   "cell_type": "code",
   "execution_count": null,
   "id": "f7bd84ea-a0b4-4427-8b30-0a49ed46b3b5",
   "metadata": {},
   "outputs": [],
   "source": [
    "#0.533 is the predicted value"
   ]
  },
  {
   "cell_type": "code",
   "execution_count": null,
   "id": "7ab05d07-c281-4480-ba7f-7c2740595a04",
   "metadata": {},
   "outputs": [],
   "source": [
    "# lets serve this model as a web service#"
   ]
  }
 ],
 "metadata": {
  "kernelspec": {
   "display_name": "Python 3 (ipykernel)",
   "language": "python",
   "name": "python3"
  },
  "language_info": {
   "codemirror_mode": {
    "name": "ipython",
    "version": 3
   },
   "file_extension": ".py",
   "mimetype": "text/x-python",
   "name": "python",
   "nbconvert_exporter": "python",
   "pygments_lexer": "ipython3",
   "version": "3.12.1"
  }
 },
 "nbformat": 4,
 "nbformat_minor": 5
}
